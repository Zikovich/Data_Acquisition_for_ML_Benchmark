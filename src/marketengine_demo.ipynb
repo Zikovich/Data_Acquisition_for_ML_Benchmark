{
 "cells": [
  {
   "cell_type": "markdown",
   "metadata": {},
   "source": [
    "Copyright (c) Meta Platforms, Inc. and affiliates.\n",
    "\n",
    "Licensed under the Apache License, Version 2.0 (the \"License\");\n",
    "you may not use this file except in compliance with the License.\n",
    "You may obtain a copy of the License at\n",
    "\n",
    "    http://www.apache.org/licenses/LICENSE-2.0\n",
    "\n",
    "Unless required by applicable law or agreed to in writing, software\n",
    "distributed under the License is distributed on an \"AS IS\" BASIS,\n",
    "WITHOUT WARRANTIES OR CONDITIONS OF ANY KIND, either express or implied.\n",
    "See the License for the specific language governing permissions and\n",
    "limitations under the License."
   ]
  },
  {
   "cell_type": "code",
   "execution_count": 7,
   "metadata": {},
   "outputs": [],
   "source": [
    "# The market demo\n",
    "from marketengine import MarketEngine\n",
    "from pricefunction import PriceFunction\n",
    "from sklearn.linear_model import LogisticRegression\n",
    "import numpy\n",
    "MyMarketEngine = MarketEngine()"
   ]
  },
  {
   "cell_type": "code",
   "execution_count": 8,
   "metadata": {},
   "outputs": [
    {
     "name": "stdout",
     "output_type": "stream",
     "text": [
      "set up the market\n"
     ]
    }
   ],
   "source": [
    "# Set up the market\n",
    "MyMarketEngine = MarketEngine()\n",
    "    \n",
    "# load the dataset    \n",
    "data_1 = numpy.asmatrix([[0,1,0],[1,0,0]])               \n",
    "data_2 = numpy.asmatrix([[0,1,1],[1,0,1],[1,1,1],[0,0,1]])\n",
    "data_b = numpy.asmatrix([[0,1,0],[1,0,1],[0,1,1]])\n",
    "\n",
    "# buyer budget\n",
    "buyer_budget = 100\n",
    "           \n",
    "# seller price    \n",
    "MyPricing1 = PriceFunction()\n",
    "MyPricing1.setup(max_p = 100, method=\"lin\")\n",
    "MyPricing2 = PriceFunction()\n",
    "MyPricing2.setup(max_p = 100, method=\"lin\")\n",
    "\n",
    "\n",
    "mlmodel1 = LogisticRegression(random_state=0)\n",
    "\n",
    "             \n",
    "MyMarketEngine.setup_market(seller_data=[data_1,data_2],\n",
    "                                seller_prices = [MyPricing1,MyPricing2],\n",
    "                     buyer_data=data_b,\n",
    "                     buyer_budget=buyer_budget,\n",
    "                     mlmodel=mlmodel1,\n",
    "                     )"
   ]
  },
  {
   "cell_type": "code",
   "execution_count": 11,
   "metadata": {},
   "outputs": [
    {
     "name": "stdout",
     "output_type": "stream",
     "text": [
      " train buyer model \n",
      "0 [[0 1 0]]\n",
      "1 [[1 0 1]\n",
      " [0 1 1]]\n",
      "budget checked! data loaded!\n",
      "acc for the strategy is 0.6666666666666666\n"
     ]
    },
    {
     "name": "stderr",
     "output_type": "stream",
     "text": [
      "/Users/lingjiao/opt/anaconda3/lib/python3.9/site-packages/sklearn/utils/validation.py:593: FutureWarning: np.matrix usage is deprecated in 1.0 and will raise a TypeError in 1.2. Please convert to a numpy array with np.asarray. For more information see: https://numpy.org/doc/stable/reference/generated/numpy.matrix.html\n",
      "  warnings.warn(\n",
      "/Users/lingjiao/opt/anaconda3/lib/python3.9/site-packages/sklearn/utils/validation.py:593: FutureWarning: np.matrix usage is deprecated in 1.0 and will raise a TypeError in 1.2. Please convert to a numpy array with np.asarray. For more information see: https://numpy.org/doc/stable/reference/generated/numpy.matrix.html\n",
      "  warnings.warn(\n"
     ]
    }
   ],
   "source": [
    "# Eval a stretagy\n",
    "stretagy = [[1,2],[50,50]]\n",
    "MyMarketEngine.load_stretagy(stretagy)\n",
    "acc1 = MyMarketEngine.train_buyer_model()\n",
    "print(\"acc for the strategy is\", acc1)"
   ]
  },
  {
   "cell_type": "code",
   "execution_count": null,
   "metadata": {},
   "outputs": [],
   "source": []
  }
 ],
 "metadata": {
  "kernelspec": {
   "display_name": "Python 3 (ipykernel)",
   "language": "python",
   "name": "python3"
  },
  "language_info": {
   "codemirror_mode": {
    "name": "ipython",
    "version": 3
   },
   "file_extension": ".py",
   "mimetype": "text/x-python",
   "name": "python",
   "nbconvert_exporter": "python",
   "pygments_lexer": "ipython3",
   "version": "3.9.12"
  }
 },
 "nbformat": 4,
 "nbformat_minor": 4
}
